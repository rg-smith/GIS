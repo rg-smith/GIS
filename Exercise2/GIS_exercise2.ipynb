{
  "nbformat": 4,
  "nbformat_minor": 0,
  "metadata": {
    "colab": {
      "name": "GIS-exercise2.ipynb",
      "provenance": [],
      "collapsed_sections": [],
      "authorship_tag": "ABX9TyOlryhyQogUvoO2lhd1xxT7",
      "include_colab_link": true
    },
    "kernelspec": {
      "name": "python3",
      "display_name": "Python 3"
    },
    "language_info": {
      "name": "python"
    }
  },
  "cells": [
    {
      "cell_type": "markdown",
      "metadata": {
        "id": "view-in-github",
        "colab_type": "text"
      },
      "source": [
        "<a href=\"https://colab.research.google.com/github/rg-smith/GIS/blob/main/Exercise2/GIS_exercise2.ipynb\" target=\"_parent\"><img src=\"https://colab.research.google.com/assets/colab-badge.svg\" alt=\"Open In Colab\"/></a>"
      ]
    },
    {
      "cell_type": "markdown",
      "metadata": {
        "id": "QIXhJ8e-avGR"
      },
      "source": [
        "### Class exercise 2: exploring geospatial data with python\n",
        "\n",
        "This exercise is meant to introduce you to some powerful tools for geospatial data analysis and plotting in python. The exercise will mainly work through examples with building complexity. At the end, you will upload your own shapefile and plot it."
      ]
    },
    {
      "cell_type": "markdown",
      "metadata": {
        "id": "00BAPkC9bDoh"
      },
      "source": [
        "The first section only needs to be run once each time you start a new session. It will install the necessary packages, and clone the github repository (copy all the files from my github GIS page to your google colab session).\n",
        "\n",
        "After running this, if you click the folder icon to the left, you should see a 'GIS' folder. If you don't see it, you can refresh (icon on the top left) and then you should see it."
      ]
    },
    {
      "cell_type": "code",
      "metadata": {
        "id": "DZDKwKG36O55"
      },
      "source": [
        "!pip install rasterio\n",
        "!pip install geopandas\n",
        "!git clone https://github.com/rg-smith/GIS.git"
      ],
      "execution_count": null,
      "outputs": []
    },
    {
      "cell_type": "markdown",
      "metadata": {
        "id": "8AaKyUnkbVGY"
      },
      "source": [
        "Now that we have installed the necessary packages, we will import them. Some packages are pre-installed in the version of python running on google colab, so we don't need to install those (but still need to import them)."
      ]
    },
    {
      "cell_type": "code",
      "metadata": {
        "id": "OSylHyp459zB"
      },
      "source": [
        "import rasterio # tools for working with raster data\n",
        "import geopandas as gpd #tools for working with vector data\n",
        "from rasterio.plot import show # rasterio tool for plotting\n",
        "import pandas as pd #tools for working with tabular (non-spatial) data\n",
        "import matplotlib.pyplot as plt # tools for generic plotting (non-spatial or spatial)"
      ],
      "execution_count": 2,
      "outputs": []
    },
    {
      "cell_type": "markdown",
      "metadata": {
        "id": "hWjScMv6bpa8"
      },
      "source": [
        "Now we will load our first raster. You will see a check-mark after running this to verify it worked. "
      ]
    },
    {
      "cell_type": "code",
      "metadata": {
        "id": "dLvvLFKg6fSi"
      },
      "source": [
        "raster = rasterio.open('GIS/Rasters/srtm_sw_utah.tif')"
      ],
      "execution_count": 3,
      "outputs": []
    },
    {
      "cell_type": "markdown",
      "metadata": {
        "id": "nolOuQqTbu0T"
      },
      "source": [
        "To plot the raster, we simply use the function we imported earlier (show). We assigned the raster to the variable name 'raster', so we just type 'show(raster)' to plot it. If the raster had a different name assigned to it, we would use that name as the argument below.\n",
        "\n",
        "Try changing the name of your raster in the code block above, then changing the name below to plot it to see what I mean.\n",
        "\n",
        "Take a screenshot and include in your report. What type of data do you think this is (what do the values represent?)"
      ]
    },
    {
      "cell_type": "code",
      "metadata": {
        "id": "efjdpQgP9sGQ"
      },
      "source": [
        "show(raster)"
      ],
      "execution_count": null,
      "outputs": []
    },
    {
      "cell_type": "markdown",
      "metadata": {
        "id": "r555bRsCcBjU"
      },
      "source": [
        "Now, we will explore the data a little bit. This is one of the nice things about python. It's fairly straightforward to dive into the data. We'll plot a histogram of the raster, showing how common each value is."
      ]
    },
    {
      "cell_type": "code",
      "metadata": {
        "id": "ZiGxijUJcdYG"
      },
      "source": [
        "plt.figure();plt.hist(raster.read().flatten(),bins=100)"
      ],
      "execution_count": null,
      "outputs": []
    },
    {
      "cell_type": "markdown",
      "metadata": {
        "id": "rODjFWSicoE1"
      },
      "source": [
        "Try changing the number of bins in the code above, and take a screenshot of your result. Describe the distribution of the data."
      ]
    },
    {
      "cell_type": "markdown",
      "metadata": {
        "id": "T29wuL4ycuhc"
      },
      "source": [
        "Now, we will load a shapefile. We do this using geopandas. We created an alias for geopandas when we imported it (import geopandas as gpd), so to use geopandas functions we type gpd., then the name of the function."
      ]
    },
    {
      "cell_type": "code",
      "metadata": {
        "id": "pa19Om9491pS"
      },
      "source": [
        "shp = gpd.read_file('GIS/Shapefiles/parowan_watershed.shp')"
      ],
      "execution_count": 6,
      "outputs": []
    },
    {
      "cell_type": "markdown",
      "metadata": {
        "id": "QmnKLte8c-du"
      },
      "source": [
        "Now we've loaded the shapefile, let's take a look at it. The shapefile is loaded as a table, with one column representing the geometry. If we print the shapefile, we can see the table."
      ]
    },
    {
      "cell_type": "code",
      "metadata": {
        "id": "2J-wdU0zdGGd"
      },
      "source": [
        "print(shp)"
      ],
      "execution_count": null,
      "outputs": []
    },
    {
      "cell_type": "markdown",
      "metadata": {
        "id": "hL0f8qfZdJW1"
      },
      "source": [
        "As you can see, there's just one row in this table. Let's plot it to see what it looks like."
      ]
    },
    {
      "cell_type": "code",
      "metadata": {
        "id": "W5OogacS-CcM"
      },
      "source": [
        "shp.plot()"
      ],
      "execution_count": null,
      "outputs": []
    },
    {
      "cell_type": "markdown",
      "metadata": {
        "id": "_WH1IWfldNq9"
      },
      "source": [
        "Do you think the shapefile and raster have the same or different coordinate reference systems? Why?\n",
        "\n",
        "After making an initial guess, we can check the coordinate reference systems."
      ]
    },
    {
      "cell_type": "code",
      "metadata": {
        "id": "QEcgXAXmdXy2"
      },
      "source": [
        "print('raster coordinate reference system:')\n",
        "print(raster.crs)\n",
        "print('shapefile coordinate reference system:')\n",
        "print(shp.crs)"
      ],
      "execution_count": null,
      "outputs": []
    },
    {
      "cell_type": "markdown",
      "metadata": {
        "id": "uimh1mvmdgb8"
      },
      "source": [
        "EPSG is a code that defines a unique coordinate reference system. Google EPSG 4326, and include the details of this crs, including its datum, in your report.\n",
        "\n",
        "Now that we've verified that these two datasets have the same crs, we can plot them together.\n",
        "\n",
        "We'll create a blank plot first, then add each dataset to the plot. Note that Rasterio and geopandas have different syntax for plotting. With rasterio we use 'show', and with geopandas we type 'plot()' following a period after the shapefile name."
      ]
    },
    {
      "cell_type": "code",
      "metadata": {
        "id": "_Fq7P-cS-Ynb"
      },
      "source": [
        "fig,ax = plt.subplots()\n",
        "show(raster,ax=ax)\n",
        "shp.plot(ax=ax,facecolor='none',edgecolor='red')"
      ],
      "execution_count": null,
      "outputs": []
    },
    {
      "cell_type": "markdown",
      "metadata": {
        "id": "xWCOZJd8eRqN"
      },
      "source": [
        "## Part 2: joining shapefile data in python"
      ]
    },
    {
      "cell_type": "markdown",
      "metadata": {
        "id": "s0T2LNBjeJHv"
      },
      "source": [
        "Now we will load some county-level data. Since this shapefile's attribute table has a lot of columns, we will plot a summary of each column with the .info() function."
      ]
    },
    {
      "cell_type": "code",
      "metadata": {
        "id": "6MigCTJD_z0J"
      },
      "source": [
        "counties = gpd.read_file('GIS/Shapefiles/cb_2017_us_county_wgs84.shp')\n",
        "print(counties.info())"
      ],
      "execution_count": null,
      "outputs": []
    },
    {
      "cell_type": "markdown",
      "metadata": {
        "id": "nwaiFccfe1Q9"
      },
      "source": [
        "Now let's take a look at a few columns more specifically"
      ]
    },
    {
      "cell_type": "code",
      "metadata": {
        "id": "0UUsDpV4e4hD"
      },
      "source": [
        "print(counties[['STATEFP','COUNTYFP','ALAND']])"
      ],
      "execution_count": null,
      "outputs": []
    },
    {
      "cell_type": "markdown",
      "metadata": {
        "id": "BHcn-PtPeiQ1"
      },
      "source": [
        "As we discovered earlier this year, counties can be identified with a code, called FIPS. Each county has a unique FIPS code. This includes a state FIPS and county FIPS. This shapefile has those included separately, but most tabular county data we want to join with this has them together, so we will merge them."
      ]
    },
    {
      "cell_type": "code",
      "metadata": {
        "id": "_DxaqD5qebcW"
      },
      "source": [
        "counties['fips'] = counties['STATEFP'] + counties['COUNTYFP']\n",
        "print(counties['fips'])"
      ],
      "execution_count": null,
      "outputs": []
    },
    {
      "cell_type": "markdown",
      "metadata": {
        "id": "OPlS7U0xfDAd"
      },
      "source": [
        "Let's plot the counties."
      ]
    },
    {
      "cell_type": "code",
      "metadata": {
        "id": "n0XpzwUeAF6v"
      },
      "source": [
        "counties.plot()"
      ],
      "execution_count": null,
      "outputs": []
    },
    {
      "cell_type": "markdown",
      "metadata": {
        "id": "vZW0Jmx5gCsl"
      },
      "source": [
        "Now, we will read in some tabular county-level data that can be joined with our county shapefile. The tabular dataset is a table showing surface and groundwater withdrawals for each county in 2010. We will only read in four columns: fips, county population, total freshwater groundwater withdrawals, and total freshwater surface water withdrawals."
      ]
    },
    {
      "cell_type": "code",
      "metadata": {
        "id": "PBK5-NaVOFE1"
      },
      "source": [
        "gw = pd.read_table('GIS/Tabular/usco2010.txt',usecols=['FIPS','TP-TotPop','TO-WGWFr','TO-WSWFr'],dtype={'FIPS':object})\n",
        "print(gw.info())"
      ],
      "execution_count": null,
      "outputs": []
    },
    {
      "cell_type": "markdown",
      "metadata": {
        "id": "303xMDFRgX6b"
      },
      "source": [
        "Since this dataset has no spatial data attached to it, we need to join it to our county shapefile, using the fips column. In pandas and geopandas, to join a file, you first need to set an 'index'. This is the column that we are joining the data on.\n",
        "\n",
        "We do this with .set_index(['column name']) following the shapefile or data table."
      ]
    },
    {
      "cell_type": "code",
      "metadata": {
        "id": "zEdBhBhngjP7"
      },
      "source": [
        "counties2 = counties.set_index(['fips'])\n",
        "gw2 = gw.set_index(['FIPS'])"
      ],
      "execution_count": 16,
      "outputs": []
    },
    {
      "cell_type": "markdown",
      "metadata": {
        "id": "dTyPsrP9gyz6"
      },
      "source": [
        "Now, we can join the datasets."
      ]
    },
    {
      "cell_type": "code",
      "metadata": {
        "id": "85Sswi8GgyBb"
      },
      "source": [
        "counties2 = counties2.join(gw2)"
      ],
      "execution_count": 17,
      "outputs": []
    },
    {
      "cell_type": "markdown",
      "metadata": {
        "id": "GsbCXq09g46K"
      },
      "source": [
        "We will create some new columns representing groundwater and surface water withdrawals per area. We will also convert these from Million gallons per day to mm water averaged over the whole county area per year."
      ]
    },
    {
      "cell_type": "code",
      "metadata": {
        "id": "bwGYH2mzhFMj"
      },
      "source": [
        "counties2['gw_withdrawal'] = 1e6*1000*counties2['TO-WGWFr']*0.00378541*365/counties2['ALAND'] # convert to mm/year\n",
        "counties2['sw_withdrawal'] = 1e6*1000*counties2['TO-WSWFr']*0.00378541*365/counties2['ALAND'] # convert to mm/year\n",
        "counties2['pop_density'] = 1e6*counties2['TP-TotPop']/counties2['ALAND'] # thousand people per square km"
      ],
      "execution_count": 18,
      "outputs": []
    },
    {
      "cell_type": "markdown",
      "metadata": {
        "id": "gH9dsvoZhI_y"
      },
      "source": [
        "Now, we can plot the data. Let's plot the groundwater withdrawals first. Optional arguments figsize, vmin and vmax change the figure size, the minimum and maximum of the color range. Try changing the values for these arguments, or removing them, to see how it changes the figure. Take a screenshot and describe how you changed the figure.\n",
        "\n",
        "Also, comment on what you observe about spatial patterns in groundwater withdrawals in the US. Where are they most substantial?"
      ]
    },
    {
      "cell_type": "code",
      "metadata": {
        "id": "5PG57vJWFiNs"
      },
      "source": [
        "counties2.plot(column = 'gw_withdrawal',figsize=(24,24),vmin=0,vmax=300)"
      ],
      "execution_count": null,
      "outputs": []
    },
    {
      "cell_type": "markdown",
      "metadata": {
        "id": "eQkEqmxGkShI"
      },
      "source": [
        "Now, it's a little hard to tell where things are located by the county borders alone. If we added the state boundaries, it would be easier. We will do that now. First, we load the state shapefile and check the crs. Is it the same crs as the others?"
      ]
    },
    {
      "cell_type": "code",
      "metadata": {
        "colab": {
          "base_uri": "https://localhost:8080/"
        },
        "id": "LzCw-TrUkD8Z",
        "outputId": "a2e2e8d6-d655-415e-de10-86cfb73469fa"
      },
      "source": [
        "state = gpd.read_file('GIS/Shapefiles/us_states.shp')\n",
        "print(state.crs)"
      ],
      "execution_count": 20,
      "outputs": [
        {
          "output_type": "stream",
          "name": "stdout",
          "text": [
            "epsg:4269\n"
          ]
        }
      ]
    },
    {
      "cell_type": "markdown",
      "metadata": {
        "id": "VgzTUDkVkkA4"
      },
      "source": [
        "To change the state crs, we can use the .to_crs function. Fill in the XXXX with the correct epsg code so that this one matches the others."
      ]
    },
    {
      "cell_type": "code",
      "metadata": {
        "id": "GzAkFU1HkwMn"
      },
      "source": [
        "state2 = state.to_crs(epsg = 'XXXX')"
      ],
      "execution_count": 21,
      "outputs": []
    },
    {
      "cell_type": "markdown",
      "metadata": {
        "id": "oNvGB3YLk5Go"
      },
      "source": [
        "Now, we will plot the states and counties together. We don't have to assign a plot to a variable, but if we do, it saves the axis, and this can be used later to plot another shapefile/raster on the same axis. We will call the axis base here, then make another plot with the argument ax=base."
      ]
    },
    {
      "cell_type": "code",
      "metadata": {
        "id": "bS9R7_-Tk7H_"
      },
      "source": [
        "base = counties2.plot(column = 'gw_withdrawal',figsize=(24,24),vmin=0,vmax=300)\n",
        "state2.plot(ax=base,color='none',edgecolor='red',linewidth=2)"
      ],
      "execution_count": null,
      "outputs": []
    },
    {
      "cell_type": "markdown",
      "metadata": {
        "id": "EzLxLHv4mdtY"
      },
      "source": [
        "Once again, try playing around with the arguments in the plot function to change the color/thicknesses of the state outlines, and vmin/vmax to change the color of the pumping values. Try to make it look nice, not just different! Take a screenshot and include in your report."
      ]
    },
    {
      "cell_type": "markdown",
      "metadata": {
        "id": "wLZVRwanm3yY"
      },
      "source": [
        "Now we will experiment with indexing. We will only plot counties with more than 50 mm/year pumping averaged over their whole area."
      ]
    },
    {
      "cell_type": "code",
      "metadata": {
        "id": "3nrs67kPmyqJ"
      },
      "source": [
        "base = counties2[counties2['gw_withdrawal']>50].plot(column = 'gw_withdrawal',figsize=(24,24),vmin=0,vmax=300)\n",
        "state2.plot(ax=base,color='none',edgecolor='red',linewidth=2)"
      ],
      "execution_count": null,
      "outputs": []
    },
    {
      "cell_type": "markdown",
      "metadata": {
        "id": "n2d8XlsbnBHw"
      },
      "source": [
        "Try changing the threshold from 50 to another value to make a plot that more clearly demonstrates regions that have the most groundwater pumping."
      ]
    },
    {
      "cell_type": "markdown",
      "metadata": {
        "id": "qjwB9q53hd-7"
      },
      "source": [
        "Now, we will plot surface water withdrawals."
      ]
    },
    {
      "cell_type": "code",
      "metadata": {
        "id": "dZLa-Ic2hgJ5"
      },
      "source": [
        "base = counties2.plot(column = 'sw_withdrawal',figsize=(24,24),vmin=0,vmax=300)\n",
        "state2.plot(ax=base,color='none',edgecolor='red',linewidth=2)"
      ],
      "execution_count": null,
      "outputs": []
    },
    {
      "cell_type": "markdown",
      "metadata": {
        "id": "Mv7qyZCkj9Yn"
      },
      "source": [
        "And finally, the population density."
      ]
    },
    {
      "cell_type": "code",
      "metadata": {
        "id": "t5wQN2eTWIhz"
      },
      "source": [
        "base = counties2.plot(column = 'pop_density',figsize=(24,24),vmin=0,vmax=0.5)\n",
        "state2.plot(ax=base,color='none',edgecolor='red',linewidth=1)"
      ],
      "execution_count": null,
      "outputs": []
    },
    {
      "cell_type": "markdown",
      "metadata": {
        "id": "-pnv_ZdLntgC"
      },
      "source": [
        "Comment on any spatial correlation (or lack thereof) between surface water withdrawals, groundwater withdrawals, and population density. "
      ]
    },
    {
      "cell_type": "markdown",
      "metadata": {
        "id": "7dZ4tI9En_EU"
      },
      "source": [
        "## Part 3: application\n",
        "Now, you will apply what you have learned to plot your own data.\n",
        "\n",
        "Pick a raster from any of the labs we have done. The srtm_us could be a straightforward one, but pick any that you want. \n",
        "\n",
        "On the folder tab to the left, click the arrow next to GIS, then Rasters. Find the folder with your raster, then click and drag into the 'Rasters' folder.\n",
        "\n",
        "Now do the same with a shapefile. Click the arrow next to Shapefiles to expand it, then click and drag your files associated with your shapefile into that folder.\n",
        "\n",
        "Replace the 'XXX' with your raster filename and shapefile filenames, then run the code below."
      ]
    },
    {
      "cell_type": "code",
      "metadata": {
        "id": "KecBx6I0oxY9"
      },
      "source": [
        "your_raster = rasterio.open('GIS/Rasters/XXX.tif')\n",
        "your_shapefile = gpd.read_file('GIS/Shapefiles/XXX.shp')"
      ],
      "execution_count": null,
      "outputs": []
    },
    {
      "cell_type": "markdown",
      "metadata": {
        "id": "BuLjmDb0o-9D"
      },
      "source": [
        "Check that your shapefile and raster are in the same coordinate reference system."
      ]
    },
    {
      "cell_type": "code",
      "metadata": {
        "id": "ggS6fSGIpCCs"
      },
      "source": [
        "print(your_raster.crs)\n",
        "print(your_shapefile.crs)"
      ],
      "execution_count": null,
      "outputs": []
    },
    {
      "cell_type": "markdown",
      "metadata": {
        "id": "ZvDVhrj6pE6t"
      },
      "source": [
        "The format may look different, but check for the epsg, or if it's utm, you can also check for the same zone. If they are not in the same coordinate reference system, determine the epsg of your raster, and replace the 'XXX' below with that value. The following line is only needed if they are NOT in the same coordiante reference system:"
      ]
    },
    {
      "cell_type": "code",
      "metadata": {
        "id": "5pobCo5ipQm7"
      },
      "source": [
        "your_shapefile = your_shapefile.to_crs(epsg = 'XXX')"
      ],
      "execution_count": null,
      "outputs": []
    },
    {
      "cell_type": "markdown",
      "metadata": {
        "id": "_XyJIN5TpbyE"
      },
      "source": [
        "Now, see if you can figure out how to plot them separately, then together, based on the code above. Those who can do this before class Thursday will get 10 pts extra credit on this assignment. I will provide more guidance on Thursday for the rest of the class!"
      ]
    },
    {
      "cell_type": "code",
      "metadata": {
        "id": "IEqMGDH2pXmc"
      },
      "source": [
        ""
      ],
      "execution_count": null,
      "outputs": []
    },
    {
      "cell_type": "markdown",
      "metadata": {
        "id": "xaHDrHP2fOBs"
      },
      "source": [
        "## Extras"
      ]
    },
    {
      "cell_type": "markdown",
      "metadata": {
        "id": "OQURPekunrpz"
      },
      "source": [
        "This section only needs to be completed for those who want to do a make-up lab. It is going to be challenging, and you are expected to do the majority of this without TA/instructor help (but you can still ask questions if you are really stuck). \n",
        "\n",
        "First, we will load world countries and cities shapefiles, then plot them together. Take a screenshot and comment.\n",
        "\n"
      ]
    },
    {
      "cell_type": "code",
      "metadata": {
        "id": "SSyDTFz3IVit"
      },
      "source": [
        "world = gpd.read_file(gpd.datasets.get_path('naturalearth_lowres'))\n",
        "cities = gpd.read_file(gpd.datasets.get_path('naturalearth_cities'))\n",
        "\n",
        "fig,ax = plt.subplots(figsize=(15,10))\n",
        "world.plot(ax=ax,column = 'pop_est')\n",
        "cities.plot(ax=ax,color = 'red')"
      ],
      "execution_count": null,
      "outputs": []
    },
    {
      "cell_type": "markdown",
      "metadata": {
        "id": "54E6fM4uqpc8"
      },
      "source": [
        "Now, we will load a few different tabular datasets."
      ]
    },
    {
      "cell_type": "code",
      "metadata": {
        "id": "dRqMxGy6qyP0"
      },
      "source": [
        "education = pd.read_csv('GIS/Tabular/Education.csv',encoding = 'ISO-8859-1',dtype={'FIPS Code':object})\n",
        "education = education.set_index(['FIPS Code'])\n",
        "print(education.info())"
      ],
      "execution_count": null,
      "outputs": []
    },
    {
      "cell_type": "code",
      "metadata": {
        "id": "DKZ8iYIxsDLE"
      },
      "source": [
        "poverty = pd.read_csv('GIS/Tabular/PovertyEstimates.csv',dtype={'FIPStxt':object})\n",
        "poverty = poverty.set_index(['FIPStxt'])\n",
        "print(poverty.info())"
      ],
      "execution_count": null,
      "outputs": []
    },
    {
      "cell_type": "markdown",
      "metadata": {
        "id": "GxPrA69MsKkB"
      },
      "source": [
        "Choose one of these tables to join to your counties2 shapefile. NOTE: you will probably have to do some digging if you use poverty to figure out what the attributes are associated with. Education will be simpler, but you are welcome to explore either one.\n",
        "\n",
        "Both data tables have already had their index set as fips, so you can just use the join command, as shown previously, to join them with the counties2 shapefile. \n",
        "\n",
        "Join these tables, then plot the counties with an attribute from the joined table. Take a screenshot, describe what you are plotting, and what the range in color values is in your lab report. Email the lab report to Jiawei and cc me by Dec 7 for credit.\n",
        "\n",
        "Some code is shown below to get you started. The XXX are things you would replace. "
      ]
    },
    {
      "cell_type": "code",
      "metadata": {
        "id": "M7dmplbvtGkh"
      },
      "source": [
        "#XXX = counties2.join(XXX)"
      ],
      "execution_count": null,
      "outputs": []
    },
    {
      "cell_type": "code",
      "metadata": {
        "id": "Zk6ISg1RtOzK"
      },
      "source": [
        "#base = XXX.plot(column = \"XXX\",figsize=(XX,XX))\n",
        "#state2.plot(ax=base,color='none',edgecolor='XX')"
      ],
      "execution_count": null,
      "outputs": []
    }
  ]
}