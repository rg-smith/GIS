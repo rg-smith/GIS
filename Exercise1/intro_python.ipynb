{
  "nbformat": 4,
  "nbformat_minor": 0,
  "metadata": {
    "colab": {
      "name": "intro_python.ipynb",
      "provenance": [],
      "collapsed_sections": [],
      "authorship_tag": "ABX9TyOYMnfveMvi+/S2TAj9xpOy",
      "include_colab_link": true
    },
    "kernelspec": {
      "name": "python3",
      "display_name": "Python 3"
    },
    "language_info": {
      "name": "python"
    }
  },
  "cells": [
    {
      "cell_type": "markdown",
      "metadata": {
        "id": "view-in-github",
        "colab_type": "text"
      },
      "source": [
        "<a href=\"https://colab.research.google.com/github/rg-smith/GIS/blob/main/Exercise1/intro_python.ipynb\" target=\"_parent\"><img src=\"https://colab.research.google.com/assets/colab-badge.svg\" alt=\"Open In Colab\"/></a>"
      ]
    },
    {
      "cell_type": "markdown",
      "metadata": {
        "id": "ZDSSYk8z3c1f"
      },
      "source": [
        "# Introduction to python\n",
        "As you go through these exercises, take screenshots and comment on what you are learning when prompted in the instructions. This will be turned in as an in-class assignment."
      ]
    },
    {
      "cell_type": "markdown",
      "metadata": {
        "id": "_yI4ZXt-XiFY"
      },
      "source": [
        "### Data types in python\n",
        "- String\n",
        "- Integer\n",
        "    - Unsigned (positive only)\n",
        "    - Signed (positive or negative)\n",
        "- Float: 32 bit (7 digits)\n",
        "- Double: 64 bit (15-16 digits)\n",
        "\n",
        "The 'type' function in python is a useful way to see what data type you have. We will feed different values into the type function to see what data type python interprets them as. Notice how anything in quotes is a string; any number not in quotes with no decimals is an integer; and any number not in quotes with decimals is a float.\n",
        "\n",
        "*change the value in the parentheses a few times to see how the data types change, and comment in your report*"
      ]
    },
    {
      "cell_type": "code",
      "metadata": {
        "colab": {
          "base_uri": "https://localhost:8080/"
        },
        "id": "tbbmvf-IWiIc",
        "outputId": "00669cd5-42c3-4c9c-c357-136703415ea8"
      },
      "source": [
        "type('GIS is awesome!')"
      ],
      "execution_count": null,
      "outputs": [
        {
          "output_type": "execute_result",
          "data": {
            "text/plain": [
              "str"
            ]
          },
          "metadata": {},
          "execution_count": 24
        }
      ]
    },
    {
      "cell_type": "code",
      "metadata": {
        "colab": {
          "base_uri": "https://localhost:8080/"
        },
        "id": "GZOl2_DIYGoL",
        "outputId": "53be1e21-0991-4668-e86f-6b71c8410bc9"
      },
      "source": [
        "type(5)"
      ],
      "execution_count": null,
      "outputs": [
        {
          "output_type": "execute_result",
          "data": {
            "text/plain": [
              "int"
            ]
          },
          "metadata": {},
          "execution_count": 27
        }
      ]
    },
    {
      "cell_type": "code",
      "metadata": {
        "colab": {
          "base_uri": "https://localhost:8080/"
        },
        "id": "pjRQIR_AYIlC",
        "outputId": "884034ef-94a6-4bd0-c235-4d49aec126e3"
      },
      "source": [
        "type('5')"
      ],
      "execution_count": null,
      "outputs": [
        {
          "output_type": "execute_result",
          "data": {
            "text/plain": [
              "str"
            ]
          },
          "metadata": {},
          "execution_count": 14
        }
      ]
    },
    {
      "cell_type": "code",
      "metadata": {
        "colab": {
          "base_uri": "https://localhost:8080/"
        },
        "id": "U-OizzphYKNR",
        "outputId": "d5a00143-2a24-41dd-d04c-b71c5c4c7af0"
      },
      "source": [
        "type(5.0)"
      ],
      "execution_count": null,
      "outputs": [
        {
          "output_type": "execute_result",
          "data": {
            "text/plain": [
              "float"
            ]
          },
          "metadata": {},
          "execution_count": 15
        }
      ]
    },
    {
      "cell_type": "markdown",
      "metadata": {
        "id": "7pdx-9D8Yi6q"
      },
      "source": [
        "### Assigning variables\n",
        "One of the most basic things you can do in python is assign values to variables. You can assign strings, integers or floats to a variable. To do this, just type in your variable name, followed by =, then the value you want to assign to it. In the code below, we assign the value 5 to x, then print x. Change the value to something else and click run. Do this a few times."
      ]
    },
    {
      "cell_type": "code",
      "metadata": {
        "colab": {
          "base_uri": "https://localhost:8080/"
        },
        "id": "CfpNII21YuVh",
        "outputId": "2c82245d-fd62-478c-f0ac-953ac243d63e"
      },
      "source": [
        "x=5\n",
        "print(x)"
      ],
      "execution_count": null,
      "outputs": [
        {
          "output_type": "stream",
          "name": "stdout",
          "text": [
            "5\n"
          ]
        }
      ]
    },
    {
      "cell_type": "markdown",
      "metadata": {
        "id": "4Chmno2TY_0R"
      },
      "source": [
        "### Basic math in python\n",
        "Python can be used as a simple calculator. \\* is times, + and - work as you would expect, ** raises to a power, and parentheses () can group mathematical operations just like with a scientific calculator.\n",
        "\n",
        "Note that in python, if you do math operations on integers, there will be an integer output.\n",
        "\n",
        "Play around with the 'calculator' below by making different equations. Here we are not assigning any variables, so python just prints the output."
      ]
    },
    {
      "cell_type": "code",
      "metadata": {
        "colab": {
          "base_uri": "https://localhost:8080/"
        },
        "id": "zdsnI08UZgoj",
        "outputId": "8d1097fd-62a8-406b-9047-41cd4942ca99"
      },
      "source": [
        "3*4"
      ],
      "execution_count": null,
      "outputs": [
        {
          "output_type": "execute_result",
          "data": {
            "text/plain": [
              "12"
            ]
          },
          "metadata": {},
          "execution_count": 17
        }
      ]
    },
    {
      "cell_type": "markdown",
      "metadata": {
        "id": "-D9PK0MaZupC"
      },
      "source": [
        "Now let's assign some variables and do some calculations with those. Once again, play with different values. Once you've done that, try changing the *variable* names. Note that if you change the variable name, you will need to change every instance that refers to that variable."
      ]
    },
    {
      "cell_type": "code",
      "metadata": {
        "colab": {
          "base_uri": "https://localhost:8080/"
        },
        "id": "Hy2SpZYiZt0q",
        "outputId": "4e3caf08-ff88-4fe9-c08f-3dbdcdfe7637"
      },
      "source": [
        "x=5\n",
        "y=2\n",
        "z=x*y\n",
        "print(z)"
      ],
      "execution_count": null,
      "outputs": [
        {
          "output_type": "stream",
          "name": "stdout",
          "text": [
            "10\n"
          ]
        }
      ]
    },
    {
      "cell_type": "code",
      "metadata": {
        "colab": {
          "base_uri": "https://localhost:8080/"
        },
        "id": "h-el-ViAZ58K",
        "outputId": "1d4eac52-e5f5-4a34-c865-dcf56faaa264"
      },
      "source": [
        "x = 5**2\n",
        "print(x) # prints the value of x"
      ],
      "execution_count": null,
      "outputs": [
        {
          "output_type": "stream",
          "name": "stdout",
          "text": [
            "25\n"
          ]
        }
      ]
    },
    {
      "cell_type": "markdown",
      "metadata": {
        "id": "ZylWVZaoaMYC"
      },
      "source": [
        "Note that the variable names themselves are not important, but staying consistent with the variables that you have defined is. A lot of beginner problems in python are from not realizing or forgetting to refer to the proper variable in your functions.\n",
        "\n",
        "Also note that typing \\# causes python to ignore whatever you type after that. Thsi is a way programmers comment their code so people can understand what they are doing."
      ]
    },
    {
      "cell_type": "markdown",
      "metadata": {
        "id": "a9GV7qTFaiS7"
      },
      "source": [
        "### Functions\n",
        "Now we will learn about functions. We've already used two functions in python: print and type. To call a function, we enter its name then parentheses. The value (or values) between the parentheses are called the arguments. You can think of it as an input to the function. The output of the function is typically printed if it's not assigned to a variable. If it is assigned to a variable, then it's stored in that variable. Let's call the type function again. This time we will store the value in a variable (called datatype), then print the variable."
      ]
    },
    {
      "cell_type": "code",
      "metadata": {
        "colab": {
          "base_uri": "https://localhost:8080/"
        },
        "id": "RIOz18wTa8EF",
        "outputId": "44e6ec15-1948-4a94-911a-d647272f95ef"
      },
      "source": [
        "datatype = type(x)\n",
        "print(datatype)"
      ],
      "execution_count": null,
      "outputs": [
        {
          "output_type": "stream",
          "name": "stdout",
          "text": [
            "<class 'int'>\n"
          ]
        }
      ]
    },
    {
      "cell_type": "markdown",
      "metadata": {
        "id": "Z-7KYU9hbUKW"
      },
      "source": [
        "Python base has several built-in functions, but for more advanced or specialized functions, we need to import them from libraries. A library is a set of functions that someone has developed that work within python. One of the things that makes python so powerful is the huge amount of libraries people have built to work within python. Some of the most popular libraries are:\n",
        "- numpy: https://numpy.org/\n",
        "- pandas: https://pandas.pydata.org/ \n",
        "- matplotlib: https://matplotlib.org/ \n",
        "- scikit learn: https://scikit-learn.org/stable/\n",
        "- scipy: https://scipy.org/ \n",
        "\n",
        "For geospatial analysis, some popular libraries are:\n",
        "- rasterio: https://rasterio.readthedocs.io/en/latest/ \n",
        "- geopandas: https://geopandas.org/en/stable/ \n",
        "- shapely: https://pypi.org/project/Shapely/\n",
        "- fiona: https://pypi.org/project/Fiona/\n",
        "\n",
        "*click on at least two of the links provided and look at the websites. describe in your report what libraries you picked and what sort of functions they have*\n"
      ]
    },
    {
      "cell_type": "markdown",
      "metadata": {
        "id": "3ZRYre9AhvDb"
      },
      "source": [
        "Let's load two of the more popular libraries: numpy and matplotlib. Numpy is used for numerical analysis in python, and matploblib is used for plotting. These libraries come pre-installed in python so we can just load them. If you get an error when importing a library, it means it hasn't been installed yet or there was an error in the installation."
      ]
    },
    {
      "cell_type": "code",
      "metadata": {
        "id": "uBJkitoch1dl"
      },
      "source": [
        "import numpy as np\n",
        "import matplotlib.pyplot as plt"
      ],
      "execution_count": null,
      "outputs": []
    },
    {
      "cell_type": "markdown",
      "metadata": {
        "id": "4E59d9Srh44r"
      },
      "source": [
        "Importing matplotlib.pyplot imports a sub-set of functions from matplotlib: pyplot. These are the most useful functions for plotting (in most peoples' opinion). By saying 'as' we are saying that now when we refer to np or plt, it is calling that library. If you put something else after 'as', then you would need to type that to call that library.\n",
        "\n",
        "Let's do a simple analysis with these libraries. We'll make a new variable, x (replacing what we had previously assigned to x), that is an array of 100 numbers going from 0 to 10. Then we'll take the sinusoid of x and assign those values to y. Then we will plot."
      ]
    },
    {
      "cell_type": "code",
      "metadata": {
        "id": "i14BVJdSiXR9"
      },
      "source": [
        "x = np.linspace(0,10,100)\n",
        "y = np.sin(x)\n",
        "plt.figure() # creates an empty figure\n",
        "plt.plot(x,y) # fills the figure with the values of x, y"
      ],
      "execution_count": null,
      "outputs": []
    },
    {
      "cell_type": "markdown",
      "metadata": {
        "id": "__4dH64ijn0A"
      },
      "source": [
        "*Modify the above code to change the amplitude and frequency of the sine wave. Include a screenshot in your report. If you wanted the sine wave to be longer (go past 10), how would you change this code to do that?* "
      ]
    },
    {
      "cell_type": "markdown",
      "metadata": {
        "id": "Lp9uFzUVjyTX"
      },
      "source": [
        "### Creating functions\n",
        "You can also create your own function. You do this with the following syntax (example below):\n",
        "\n",
        "```\n",
        "def function_name(function arguments):\n",
        "  # put code in with as many lines as you want. \n",
        "  # it should produce some output value\n",
        "  return(value produced in function)\n",
        "```\n",
        "\n",
        "\n"
      ]
    },
    {
      "cell_type": "code",
      "metadata": {
        "id": "V89tf5l1j-5n"
      },
      "source": [
        "def my_function(a,b):\n",
        "  x = a+b\n",
        "  return(x)\n",
        "my_function(3,4) # test the function"
      ],
      "execution_count": null,
      "outputs": []
    },
    {
      "cell_type": "markdown",
      "metadata": {
        "id": "Cp63c9GSkp-Z"
      },
      "source": [
        "Class exercise: create your own function"
      ]
    },
    {
      "cell_type": "code",
      "metadata": {
        "id": "sae6T1qKksDI"
      },
      "source": [
        "# create your function in this code block."
      ],
      "execution_count": null,
      "outputs": []
    },
    {
      "cell_type": "markdown",
      "metadata": {
        "id": "EReq8YNu2X6O"
      },
      "source": [
        "### Loops in python\n",
        "One of the more powerful things about any programming language is the ability to loop through basic tasks. Now suddenly you can do something 100 times as fast as it would take to do it one time, which allows you to work with much larger datasets than you could without using programming. The most common loop to use is the for loop. \n",
        "\n",
        "We'll use for to start the loop, and the range function to tell the loop where to start and stop. All this loop will do is print a number for each iteration of the loop."
      ]
    },
    {
      "cell_type": "code",
      "metadata": {
        "id": "j-RR2Vwg2wy-"
      },
      "source": [
        "for kk in range(0,10):\n",
        "  print(kk)\n",
        "print('the loop is finished')"
      ],
      "execution_count": null,
      "outputs": []
    },
    {
      "cell_type": "markdown",
      "metadata": {
        "id": "fh02RrpU23Sl"
      },
      "source": [
        "Note how the text that's inside the indent is included in the loop, but the text outside of the indent ('the loop is finished') is not, and only runs once. If we indented the third line it would also be included in the loop and iterate 10 times. Try doing that (use tab to indent) and see what it does. \n",
        "\n",
        "*take a screenshot and comment on how a for loop is created in your report*\n",
        "\n",
        "Also note that even though the range had 0 for a starting value and 10 for a stopping value, the loop ended at 9. This is just a trait of python--it will finish at the number before the one that you type. We'll see this with indexing as well."
      ]
    },
    {
      "cell_type": "markdown",
      "metadata": {
        "id": "3Q8lsJcj4JJX"
      },
      "source": [
        "### Logical expressions\n",
        "A logical expression tests whether something is true, or finds where in an array it is true. Let's make our first logical expression by assigning the value 5 to x, then typing an expression to test whether x is equal to 5. This expression uses two equal signs: == "
      ]
    },
    {
      "cell_type": "code",
      "metadata": {
        "id": "RokPSqj84wPA"
      },
      "source": [
        "x=5\n",
        "x==5"
      ],
      "execution_count": null,
      "outputs": []
    },
    {
      "cell_type": "markdown",
      "metadata": {
        "id": "S7hEtyHW4zYQ"
      },
      "source": [
        "*Now change the above expression so that it is no longer true. You can do this by assigning a different value to x, or by changing the expression below (test whether x equals 6 instead when the value assigned to x is not 6, for example). Take a screenshot and include in your report*"
      ]
    },
    {
      "cell_type": "markdown",
      "metadata": {
        "id": "9Ud9SPKm4_hQ"
      },
      "source": [
        "Now we will do the same thing, but with an array. First we'll create an array using numpy, and print it so you can see what it looks like. The array will have 20 values ranging from 0 to 1. We'll use np.linspace to make this, which takes as arguments the starting value, ending value, and total number of values."
      ]
    },
    {
      "cell_type": "code",
      "metadata": {
        "id": "tOjvl_DR5svC"
      },
      "source": [
        "x = np.linspace(0,1,20)\n",
        "print(x)"
      ],
      "execution_count": null,
      "outputs": []
    },
    {
      "cell_type": "markdown",
      "metadata": {
        "id": "cT98K1Kc5z6A"
      },
      "source": [
        "Now we will use an expression to determine which of the 20 values in this array are greater than 0.3. We'll assign the output to a new variable, 'filt' (short for filter)"
      ]
    },
    {
      "cell_type": "code",
      "metadata": {
        "id": "ylr0GmId54UQ"
      },
      "source": [
        "filt = x>0.3\n",
        "print(filt)"
      ],
      "execution_count": null,
      "outputs": []
    },
    {
      "cell_type": "markdown",
      "metadata": {
        "id": "UCSk2rpp56yJ"
      },
      "source": [
        "*change the expression to test which of the values are greater than 0.5*"
      ]
    },
    {
      "cell_type": "markdown",
      "metadata": {
        "id": "GUxXiIpY6dSi"
      },
      "source": [
        "### Indexing\n",
        "The index is a numerical representation of the position on an array. If your array is one dimensional, it's just one value (i.e. third value of the array). If it's two dimensional, it would be a row and column number. In python, indexes start at 0, so the first would be 0, second would be 1, third would be 2, etc. Using our previously defined array x:"
      ]
    },
    {
      "cell_type": "code",
      "metadata": {
        "id": "7K9q98mh64Qy"
      },
      "source": [
        "x[0]"
      ],
      "execution_count": null,
      "outputs": []
    },
    {
      "cell_type": "code",
      "metadata": {
        "id": "vCCgw1mF68bR"
      },
      "source": [
        "x[1]"
      ],
      "execution_count": null,
      "outputs": []
    },
    {
      "cell_type": "code",
      "metadata": {
        "id": "XYwzwIxm69YL"
      },
      "source": [
        "x[10]"
      ],
      "execution_count": null,
      "outputs": []
    },
    {
      "cell_type": "markdown",
      "metadata": {
        "id": "NeTFYXJA6-cR"
      },
      "source": [
        "The above lines select teh first, second and 11th values in the array x. Remember, we index with brackets! [ ]"
      ]
    },
    {
      "cell_type": "markdown",
      "metadata": {
        "id": "-MkHLhNp7Bga"
      },
      "source": [
        "We can also index with logical arrays, if the array is the same length. Let's index with the variable 'filt' we defined earlier."
      ]
    },
    {
      "cell_type": "code",
      "metadata": {
        "id": "uIgzaktA7K9D"
      },
      "source": [
        "x[filt]"
      ],
      "execution_count": null,
      "outputs": []
    },
    {
      "cell_type": "markdown",
      "metadata": {
        "id": "b4dmuk7x7O2y"
      },
      "source": [
        "We just selected the values in the array x that meet the criteria in 'filt'. In other words, we selected all values in x > 0.5 (or whatever your most recent criteria was when you assigned it to 'filt' in the code above)."
      ]
    },
    {
      "cell_type": "markdown",
      "metadata": {
        "id": "pARgxLTi38_b"
      },
      "source": [
        "It's the same concept with 2-dimensional arrays, but you need two values to index something: one for the row, one for the column. "
      ]
    },
    {
      "cell_type": "code",
      "metadata": {
        "id": "KFrInzGU3ThW"
      },
      "source": [
        "x = np.ones((10,10)) # first we'll create a 2-dimensional array where the value is one everywhere\n",
        "x[5,5] = 10 # now we'll make the center value 10\n",
        "print(x) "
      ],
      "execution_count": null,
      "outputs": []
    },
    {
      "cell_type": "markdown",
      "metadata": {
        "id": "TM9PL17c4Cyg"
      },
      "source": [
        "*Experiment with the code above to change the row and column of the index so the 10 moves around. Take a screenshot and describe in your report what makes the 10 move up and down, and what makes it move left and right*"
      ]
    }
  ]
}