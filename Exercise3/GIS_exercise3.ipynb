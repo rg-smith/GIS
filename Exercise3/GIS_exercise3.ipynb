{
  "nbformat": 4,
  "nbformat_minor": 0,
  "metadata": {
    "colab": {
      "name": "GIS-exercise3.ipynb",
      "provenance": [],
      "collapsed_sections": [],
      "authorship_tag": "ABX9TyNBQtc0lJ2tnpaOTyiyYpGT",
      "include_colab_link": true
    },
    "kernelspec": {
      "name": "python3",
      "display_name": "Python 3"
    },
    "language_info": {
      "name": "python"
    }
  },
  "cells": [
    {
      "cell_type": "markdown",
      "metadata": {
        "id": "view-in-github",
        "colab_type": "text"
      },
      "source": [
        "<a href=\"https://colab.research.google.com/github/rg-smith/GIS/blob/main/Exercise3/GIS_exercise3.ipynb\" target=\"_parent\"><img src=\"https://colab.research.google.com/assets/colab-badge.svg\" alt=\"Open In Colab\"/></a>"
      ]
    },
    {
      "cell_type": "markdown",
      "metadata": {
        "id": "QIXhJ8e-avGR"
      },
      "source": [
        "### Class exercise 3: exploring geospatial data with python\n",
        "\n",
        "This exercise is meant to build your familiarity with some powerful tools for geospatial data analysis and plotting in python. The exercise will mainly work through examples with building complexity. At the end, you will upload your own shapefile and plot it."
      ]
    },
    {
      "cell_type": "markdown",
      "metadata": {
        "id": "00BAPkC9bDoh"
      },
      "source": [
        "The first section only needs to be run once each time you start a new session. It will install the necessary packages, and clone the github repository (copy all the files from my github GIS page to your google colab session).\n",
        "\n",
        "After running this, if you click the folder icon to the left, you should see a 'GIS' folder. If you don't see it, you can refresh (icon on the top left) and then you should see it."
      ]
    },
    {
      "cell_type": "code",
      "metadata": {
        "id": "DZDKwKG36O55"
      },
      "source": [
        "!pip install rasterio\n",
        "!pip install geopandas\n",
        "!pip install rasterstats\n",
        "!git clone https://github.com/rg-smith/GIS.git"
      ],
      "execution_count": null,
      "outputs": []
    },
    {
      "cell_type": "markdown",
      "metadata": {
        "id": "8AaKyUnkbVGY"
      },
      "source": [
        "Now that we have installed the necessary packages, we will import them. Some packages are pre-installed in the version of python running on google colab, so we don't need to install those (but still need to import them)."
      ]
    },
    {
      "cell_type": "code",
      "metadata": {
        "id": "OSylHyp459zB"
      },
      "source": [
        "import rasterio # tools for working with raster data\n",
        "import geopandas as gpd #tools for working with vector data\n",
        "from rasterio.plot import show # rasterio tool for plotting\n",
        "import pandas as pd #tools for working with tabular (non-spatial) data\n",
        "import matplotlib.pyplot as plt # tools for generic plotting (non-spatial or spatial)\n",
        "from rasterstats import zonal_stats # function for estimating zonal statistics\n",
        "import numpy as np # tools for working with arrays"
      ],
      "execution_count": null,
      "outputs": []
    },
    {
      "cell_type": "markdown",
      "metadata": {
        "id": "hWjScMv6bpa8"
      },
      "source": [
        "First, we'll load our raster and shapefile as before."
      ]
    },
    {
      "cell_type": "code",
      "metadata": {
        "id": "dLvvLFKg6fSi"
      },
      "source": [
        "raster = rasterio.open('GIS/Rasters/srtm_sw_utah.tif')"
      ],
      "execution_count": null,
      "outputs": []
    },
    {
      "cell_type": "code",
      "metadata": {
        "id": "efjdpQgP9sGQ"
      },
      "source": [
        "show(raster)"
      ],
      "execution_count": null,
      "outputs": []
    },
    {
      "cell_type": "markdown",
      "metadata": {
        "id": "r555bRsCcBjU"
      },
      "source": [
        "Now, we will explore the data a little bit. This is one of the nice things about python. It's fairly straightforward to dive into the data. We'll plot a histogram of the raster, showing how common each value is."
      ]
    },
    {
      "cell_type": "code",
      "metadata": {
        "id": "ZiGxijUJcdYG"
      },
      "source": [
        "plt.figure();plt.hist(raster.read().flatten(),bins=100)"
      ],
      "execution_count": null,
      "outputs": []
    },
    {
      "cell_type": "markdown",
      "metadata": {
        "id": "sdaGHH955so1"
      },
      "source": [
        "Now we will use the histogram to make some new plots. We can see that most of the data has an elevation below 2000 m. The higher elevations are mountains. Let's say we only want to view parts of the image with a low elevation, below 2000 m. We can use a logical expression to do this. First, we will read our raster as an array, using raster_name.read(band number). Since our raster only has one band (elevation), we just select 1."
      ]
    },
    {
      "cell_type": "code",
      "metadata": {
        "id": "ZnsHRHck5_Y9"
      },
      "source": [
        "array = raster.read(1)\n",
        "print(array)"
      ],
      "execution_count": null,
      "outputs": []
    },
    {
      "cell_type": "markdown",
      "metadata": {
        "id": "ONL4CFfZ6HcF"
      },
      "source": [
        "Printing the array shows a summary of the values in the array.\n",
        "\n",
        "Now, we will plot the array. Note that it will look just like the raster above, but there is no geograhpic information, so the x and y axes are just numbered by rows and column numbers."
      ]
    },
    {
      "cell_type": "code",
      "metadata": {
        "id": "7dsEaaY86Xu8"
      },
      "source": [
        "fig, ax = plt.subplots() # create an empty figure\n",
        "plt.imshow(array) # fill the figure with a plot of the array\n",
        "plt.colorbar() # add a colorbar"
      ],
      "execution_count": null,
      "outputs": []
    },
    {
      "cell_type": "markdown",
      "metadata": {
        "id": "RwFokRFs6yg-"
      },
      "source": [
        "Now, we will view only regions with elevaiton below 2000"
      ]
    },
    {
      "cell_type": "code",
      "metadata": {
        "id": "z24oAQb261Z-"
      },
      "source": [
        "filt = array < 2000\n",
        "print(filt)"
      ],
      "execution_count": null,
      "outputs": []
    },
    {
      "cell_type": "markdown",
      "metadata": {
        "id": "Ez0B-GcF648U"
      },
      "source": [
        "The variable filt is our logical expression. Note how it is also an array, but has changed from numbers to what we call 'boolean', meaning it either says true or false. If we plot this, the True's will be plotted as 1's and False's will be plotted as 0's. **Logical operators include < (less than), > (greater than), and == (equal to). Each of those will return a value of True (1) for the pixels where the statement is true, and False (0) where the statement is false.**"
      ]
    },
    {
      "cell_type": "code",
      "metadata": {
        "id": "-izkUeo07D-d"
      },
      "source": [
        "fig,ax = plt.subplots()\n",
        "plt.imshow(filt)\n",
        "plt.colorbar()"
      ],
      "execution_count": null,
      "outputs": []
    },
    {
      "cell_type": "markdown",
      "metadata": {
        "id": "rODjFWSicoE1"
      },
      "source": [
        "Try changing the threshold from 2000 to some other value to more clearly distinguish valleys from mountains. Take a screenshot and include in your lab report."
      ]
    },
    {
      "cell_type": "markdown",
      "metadata": {
        "id": "T29wuL4ycuhc"
      },
      "source": [
        "Now, we will load our shapefile like in the last exercise. We do this using geopandas. We created an alias for geopandas when we imported it (import geopandas as gpd), so to use geopandas functions we type gpd., then the name of the function."
      ]
    },
    {
      "cell_type": "code",
      "metadata": {
        "id": "pa19Om9491pS"
      },
      "source": [
        "shp = gpd.read_file('GIS/Shapefiles/parowan_watershed.shp')"
      ],
      "execution_count": null,
      "outputs": []
    },
    {
      "cell_type": "markdown",
      "metadata": {
        "id": "QmnKLte8c-du"
      },
      "source": [
        "Now we've loaded the shapefile, let's take a look at it. The shapefile is loaded as a table, with one column representing the geometry. If we print the shapefile, we can see the table."
      ]
    },
    {
      "cell_type": "code",
      "metadata": {
        "id": "2J-wdU0zdGGd"
      },
      "source": [
        "print(shp)"
      ],
      "execution_count": null,
      "outputs": []
    },
    {
      "cell_type": "markdown",
      "metadata": {
        "id": "hL0f8qfZdJW1"
      },
      "source": [
        "As you can see, there's just one row in this table. Let's plot it to see what it looks like."
      ]
    },
    {
      "cell_type": "code",
      "metadata": {
        "id": "W5OogacS-CcM"
      },
      "source": [
        "shp.plot()"
      ],
      "execution_count": null,
      "outputs": []
    },
    {
      "cell_type": "markdown",
      "metadata": {
        "id": "_WH1IWfldNq9"
      },
      "source": [
        "We can check the coordinate reference systems of raster and crs, as before..."
      ]
    },
    {
      "cell_type": "code",
      "metadata": {
        "id": "QEcgXAXmdXy2",
        "colab": {
          "base_uri": "https://localhost:8080/"
        },
        "outputId": "40de94dc-d0e7-4183-ab4d-4561352112a4"
      },
      "source": [
        "print('raster coordinate reference system:')\n",
        "print(raster.crs)\n",
        "print('shapefile coordinate reference system:')\n",
        "print(shp.crs)"
      ],
      "execution_count": null,
      "outputs": [
        {
          "output_type": "stream",
          "name": "stdout",
          "text": [
            "raster coordinate reference system:\n",
            "EPSG:4326\n",
            "shapefile coordinate reference system:\n",
            "epsg:4326\n"
          ]
        }
      ]
    },
    {
      "cell_type": "markdown",
      "metadata": {
        "id": "uimh1mvmdgb8"
      },
      "source": [
        "EPSG is a code that defines a unique coordinate reference system. Google EPSG 4326, and include the details of this crs, including its datum, in your report.\n",
        "\n",
        "Now that we've verified that these two datasets have the same crs, we can plot them together.\n",
        "\n",
        "We'll create a blank plot first, then add each dataset to the plot. Note that Rasterio and geopandas have different syntax for plotting. With rasterio we use 'show', and with geopandas we type 'plot()' following a period after the shapefile name."
      ]
    },
    {
      "cell_type": "code",
      "metadata": {
        "id": "_Fq7P-cS-Ynb"
      },
      "source": [
        "fig,ax = plt.subplots()\n",
        "show(raster,ax=ax)\n",
        "shp.plot(ax=ax,facecolor='none',edgecolor='red')"
      ],
      "execution_count": null,
      "outputs": []
    },
    {
      "cell_type": "markdown",
      "metadata": {
        "id": "eD5R81y78faM"
      },
      "source": [
        "Now we will plot our new raster that shows the valleys with the watershed on top. To do this, we need to add some spatial information to the array we created. The spatial information is contained in raster.transform"
      ]
    },
    {
      "cell_type": "code",
      "metadata": {
        "id": "TthgsxDV8tCa"
      },
      "source": [
        "transform = raster.transform\n",
        "print(transform)"
      ],
      "execution_count": null,
      "outputs": []
    },
    {
      "cell_type": "markdown",
      "metadata": {
        "id": "AZ1-jp7288oa"
      },
      "source": [
        "Now we can plot the array with the transform, which contains the top-left corner coordinates, as well as the pixel spacing, for the variable 'raster'."
      ]
    },
    {
      "cell_type": "code",
      "metadata": {
        "id": "XH3QmhxH9FBq"
      },
      "source": [
        "fig,ax = plt.subplots()\n",
        "show(filt,transform=transform,ax=ax)\n",
        "shp.plot(ax=ax,color='none',edgecolor='red')"
      ],
      "execution_count": null,
      "outputs": []
    },
    {
      "cell_type": "markdown",
      "metadata": {
        "id": "ubMTBt4F9dHz"
      },
      "source": [
        "Take a screenshot and include in your report. What percentage of the watershed would you say is 'valley' vs 'mountain'?"
      ]
    },
    {
      "cell_type": "markdown",
      "metadata": {
        "id": "iPePQI5W9nOT"
      },
      "source": [
        "Let's look at the slope."
      ]
    },
    {
      "cell_type": "code",
      "metadata": {
        "id": "Ck05XRse9q-D"
      },
      "source": [
        "slope = np.gradient(array) # calculates the slope in the x and y direction\n",
        "slope2 = np.max(slope,axis=0) # takes the maximum slope of the x and y directions\n",
        "fig,ax = plt.subplots()\n",
        "show(slope2,transform=transform,ax=ax,vmin=0,vmax=30)\n",
        "shp.plot(ax=ax,color='none',edgecolor='red')"
      ],
      "execution_count": null,
      "outputs": []
    },
    {
      "cell_type": "markdown",
      "metadata": {
        "id": "ssEJHVvA_Ngr"
      },
      "source": [
        "Now try making a filter that identifies valleys based on slope, and plotting it."
      ]
    },
    {
      "cell_type": "code",
      "metadata": {
        "id": "fo6N9WYG_VSC"
      },
      "source": [
        ""
      ],
      "execution_count": null,
      "outputs": []
    },
    {
      "cell_type": "markdown",
      "metadata": {
        "id": "5ll_6V78_WFp"
      },
      "source": [
        "## Part 2: Zonal statistics\n",
        "Now we will use some zonal statistics tools. These work similar to how we used zonal statistics in ArcMap.\n",
        "\n",
        "The zonal_stats function takes as arguments the shapefile that you want to get zonal statistics over, the raster (needs to be given as an array), and the transform that we defined earlier."
      ]
    },
    {
      "cell_type": "code",
      "metadata": {
        "id": "XKTKX-kCrH7k",
        "colab": {
          "base_uri": "https://localhost:8080/"
        },
        "outputId": "f7fef1fd-7ab7-4a2c-c778-f4ea3ee2477b"
      },
      "source": [
        "watershed_elev = pd.DataFrame(zonal_stats(shp,array,affine = transform))\n",
        "print(watershed_elev)"
      ],
      "execution_count": null,
      "outputs": [
        {
          "output_type": "stream",
          "name": "stdout",
          "text": [
            "      min     max         mean  count\n",
            "0  1735.0  3375.0  2158.817294  26113\n"
          ]
        },
        {
          "output_type": "stream",
          "name": "stderr",
          "text": [
            "/usr/local/lib/python3.7/dist-packages/rasterstats/io.py:313: UserWarning: Setting nodata to -999; specify nodata explicitly\n",
            "  warnings.warn(\"Setting nodata to -999; specify nodata explicitly\")\n"
          ]
        }
      ]
    },
    {
      "cell_type": "markdown",
      "metadata": {
        "id": "qnlaiMDlAvWX"
      },
      "source": [
        "Get a screenshot of the zonal statistics over the watershed. What's the mean, max and min elevation of the watershed?\n",
        "\n",
        "Now do the same thing, but with the slope2 raster. The transform will be the same as for the other arrays (they all have the same transform)."
      ]
    },
    {
      "cell_type": "code",
      "metadata": {
        "id": "P8V695ewA_3P"
      },
      "source": [
        ""
      ],
      "execution_count": null,
      "outputs": []
    },
    {
      "cell_type": "markdown",
      "metadata": {
        "id": "QHSeItlKBARo"
      },
      "source": [
        "Now, load your own raster and shapefile. Make sure that they have the same crs (if they don't, do a transform like in exercise 2). Then, do zonal stats with that raster/shapefile combo. Take a screenshot and describe what you did."
      ]
    },
    {
      "cell_type": "code",
      "metadata": {
        "id": "B9ZqJPWDBJa_"
      },
      "source": [
        ""
      ],
      "execution_count": null,
      "outputs": []
    },
    {
      "cell_type": "markdown",
      "metadata": {
        "id": "HXf-ieKQ_eYK"
      },
      "source": [
        "## Part 3: Raster algebra"
      ]
    },
    {
      "cell_type": "markdown",
      "metadata": {
        "id": "BYggZvQQ_f4r"
      },
      "source": [
        "We can do raster algebra here, just like in ArcMap. The units of the raster we are viewing are in meters. Let's convert it to feet. Replace the XXX with a conversion factor, then run the code to convert it to feet.\n",
        "\n",
        "NOTE: This section is not complete yet. Feel free to do this part, but save your work and don't turn it in yet, because more will be posted next week."
      ]
    },
    {
      "cell_type": "code",
      "metadata": {
        "id": "gTYYQMtL_ui0"
      },
      "source": [
        "conversion_factor=XXX\n",
        "elevation_ft = raster*conversion_factor"
      ],
      "execution_count": null,
      "outputs": []
    },
    {
      "cell_type": "markdown",
      "metadata": {
        "id": "tq4ArRzz_5Pc"
      },
      "source": [
        "Let's look at the average elevation for both rasters to see if it worked."
      ]
    },
    {
      "cell_type": "code",
      "metadata": {
        "id": "IWvYEB5-AFaV"
      },
      "source": [
        "print(np.mean(raster))\n",
        "print(np.mean(elevation_ft))"
      ],
      "execution_count": null,
      "outputs": []
    },
    {
      "cell_type": "markdown",
      "metadata": {
        "id": "Vwm5G2Z1AKfG"
      },
      "source": [
        "Take a screenshot of the mean elevation for both rasters. Do you think your conversion worked?"
      ]
    },
    {
      "cell_type": "markdown",
      "metadata": {
        "id": "v3Wr0MWaRBaO"
      },
      "source": [
        "Now we will load a couple MODIS rasters. Load the first one with the code below, then write your own code in the line below to load MODIS_band2.tif, and assign to a variable named modis2."
      ]
    },
    {
      "cell_type": "code",
      "metadata": {
        "id": "14jOVUs4RLg7"
      },
      "source": [
        "modis1 = rasterio.open('GIS/Rasters/MODIS_band1.tif')"
      ],
      "execution_count": null,
      "outputs": []
    },
    {
      "cell_type": "markdown",
      "metadata": {
        "id": "4HKs6fj0R4yE"
      },
      "source": [
        "Now, we will read the rasters as arrays."
      ]
    },
    {
      "cell_type": "code",
      "metadata": {
        "id": "UXnQ9Vi-R-Cg"
      },
      "source": [
        "mod1arr = modis1.read(1)\n",
        "mod2arr = modis2.read(1)"
      ],
      "execution_count": null,
      "outputs": []
    },
    {
      "cell_type": "markdown",
      "metadata": {
        "id": "R5rVapEySXKp"
      },
      "source": [
        "Now, we will create a new array that is the normalized difference vegetation index (this shows where plants are growing). The formula for the index is (modis band 2 - modis band 1)/(modis band 2 + modis band 1).\n",
        "\n",
        "Use the arrays you just created to calculate the index. Call the index index (that will ensure the code later on works)."
      ]
    },
    {
      "cell_type": "code",
      "metadata": {
        "id": "JEn9udaMTC3y"
      },
      "source": [
        ""
      ],
      "execution_count": null,
      "outputs": []
    },
    {
      "cell_type": "markdown",
      "metadata": {
        "id": "AZ2AaBErTTtF"
      },
      "source": [
        "Now let's plot it! We can use show, and the transform from one of the modis rasters (they both have the same transform). First we will set all values above 1 equal to 1, and do the same for -1."
      ]
    },
    {
      "cell_type": "code",
      "metadata": {
        "id": "MqOsHFLQTS-n"
      },
      "source": [
        "index[index>1] = 1\n",
        "index[index<-1] = -1\n",
        "show(index, modis1.transform)"
      ],
      "execution_count": null,
      "outputs": []
    },
    {
      "cell_type": "markdown",
      "metadata": {
        "id": "mJSzs1iRUipg"
      },
      "source": [
        "Now plot the same raster but with the outline of the states. You can check exercise 2 for a refresher of how to do this. Take a screenshot and include with your lab report."
      ]
    }
  ]
}